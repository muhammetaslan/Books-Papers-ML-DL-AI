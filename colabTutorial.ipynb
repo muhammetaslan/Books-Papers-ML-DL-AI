{
  "nbformat": 4,
  "nbformat_minor": 0,
  "metadata": {
    "colab": {
      "name": "colabTutorial.ipynb",
      "provenance": [],
      "authorship_tag": "ABX9TyMqVnlYw5UT5dzw+6Bt0AZG",
      "include_colab_link": true
    },
    "kernelspec": {
      "name": "python3",
      "display_name": "Python 3"
    },
    "accelerator": "TPU"
  },
  "cells": [
    {
      "cell_type": "markdown",
      "metadata": {
        "id": "view-in-github",
        "colab_type": "text"
      },
      "source": [
        "<a href=\"https://colab.research.google.com/github/muhammetaslan/Books-Papers-ML-DL-AI/blob/master/colabTutorial.ipynb\" target=\"_parent\"><img src=\"https://colab.research.google.com/assets/colab-badge.svg\" alt=\"Open In Colab\"/></a>"
      ]
    },
    {
      "cell_type": "markdown",
      "metadata": {
        "id": "204GM64xdlbp",
        "colab_type": "text"
      },
      "source": [
        "# Google colab tutorials \n",
        "Muhammet ASLAN"
      ]
    },
    {
      "cell_type": "code",
      "metadata": {
        "id": "e2hXzHEZKGwt",
        "colab_type": "code",
        "colab": {
          "base_uri": "https://localhost:8080/",
          "height": 35
        },
        "outputId": "9e082a8e-aafe-4780-9cb1-dd3753445bba"
      },
      "source": [
        "# colab GPU device check\n",
        "import tensorflow as tf \n",
        "tf.test.gpu_device_name() "
      ],
      "execution_count": 6,
      "outputs": [
        {
          "output_type": "execute_result",
          "data": {
            "application/vnd.google.colaboratory.intrinsic": {
              "type": "string"
            },
            "text/plain": [
              "'/device:GPU:0'"
            ]
          },
          "metadata": {
            "tags": []
          },
          "execution_count": 6
        }
      ]
    },
    {
      "cell_type": "code",
      "metadata": {
        "id": "TnQgEmbard4U",
        "colab_type": "code",
        "colab": {
          "base_uri": "https://localhost:8080/",
          "height": 34
        },
        "outputId": "c515a680-98ba-4cdc-abc9-48a89608028c"
      },
      "source": [
        "# TPU device check\n",
        "import os \n",
        "if 'COLAB_TPU_ADDR' not in os.environ: \n",
        "  print('Not connected to TPU') \n",
        "else: \n",
        "  print(\"Connected to TPU\") "
      ],
      "execution_count": 1,
      "outputs": [
        {
          "output_type": "stream",
          "text": [
            "Connected to TPU\n"
          ],
          "name": "stdout"
        }
      ]
    },
    {
      "cell_type": "markdown",
      "metadata": {
        "id": "vr12OXq0s9xX",
        "colab_type": "text"
      },
      "source": [
        "#Install Python packages \n",
        "\n",
        "The code section also the command line of the linux machine.\n",
        "\n",
        "You can use any linux command and shell tools with \"!\" \n",
        "\n",
        "Use can use pip to install any package. For example:"
      ]
    },
    {
      "cell_type": "code",
      "metadata": {
        "id": "XuJjIhPPuaNA",
        "colab_type": "code",
        "colab": {
          "base_uri": "https://localhost:8080/",
          "height": 102
        },
        "outputId": "9827be8e-3200-4e3f-81fe-903bbef9495e"
      },
      "source": [
        "! pip install pandas \n"
      ],
      "execution_count": 2,
      "outputs": [
        {
          "output_type": "stream",
          "text": [
            "Requirement already satisfied: pandas in /usr/local/lib/python3.6/dist-packages (1.0.5)\n",
            "Requirement already satisfied: pytz>=2017.2 in /usr/local/lib/python3.6/dist-packages (from pandas) (2018.9)\n",
            "Requirement already satisfied: numpy>=1.13.3 in /usr/local/lib/python3.6/dist-packages (from pandas) (1.18.5)\n",
            "Requirement already satisfied: python-dateutil>=2.6.1 in /usr/local/lib/python3.6/dist-packages (from pandas) (2.8.1)\n",
            "Requirement already satisfied: six>=1.5 in /usr/local/lib/python3.6/dist-packages (from python-dateutil>=2.6.1->pandas) (1.12.0)\n"
          ],
          "name": "stdout"
        }
      ]
    },
    {
      "cell_type": "code",
      "metadata": {
        "id": "qg73YYZiuweM",
        "colab_type": "code",
        "colab": {}
      },
      "source": [
        "!ls"
      ],
      "execution_count": null,
      "outputs": []
    }
  ]
}