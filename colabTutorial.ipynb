{
  "nbformat": 4,
  "nbformat_minor": 0,
  "metadata": {
    "colab": {
      "name": "colabTutorial.ipynb",
      "provenance": [],
      "authorship_tag": "ABX9TyPkmLFifCP/30C59GubJgCb",
      "include_colab_link": true
    },
    "kernelspec": {
      "name": "python3",
      "display_name": "Python 3"
    },
    "accelerator": "GPU"
  },
  "cells": [
    {
      "cell_type": "markdown",
      "metadata": {
        "id": "view-in-github",
        "colab_type": "text"
      },
      "source": [
        "<a href=\"https://colab.research.google.com/github/muhammetaslan/Books-Papers-ML-DL-AI/blob/master/colabTutorial.ipynb\" target=\"_parent\"><img src=\"https://colab.research.google.com/assets/colab-badge.svg\" alt=\"Open In Colab\"/></a>"
      ]
    },
    {
      "cell_type": "markdown",
      "metadata": {
        "id": "204GM64xdlbp",
        "colab_type": "text"
      },
      "source": [
        "# Google colab tutorials \n",
        "Muhammet ASLAN"
      ]
    },
    {
      "cell_type": "code",
      "metadata": {
        "id": "e2hXzHEZKGwt",
        "colab_type": "code",
        "colab": {
          "base_uri": "https://localhost:8080/",
          "height": 35
        },
        "outputId": "9e082a8e-aafe-4780-9cb1-dd3753445bba"
      },
      "source": [
        "# colab GPU device check\n",
        "import tensorflow as tf \n",
        "tf.test.gpu_device_name() "
      ],
      "execution_count": 6,
      "outputs": [
        {
          "output_type": "execute_result",
          "data": {
            "application/vnd.google.colaboratory.intrinsic": {
              "type": "string"
            },
            "text/plain": [
              "'/device:GPU:0'"
            ]
          },
          "metadata": {
            "tags": []
          },
          "execution_count": 6
        }
      ]
    },
    {
      "cell_type": "code",
      "metadata": {
        "id": "TnQgEmbard4U",
        "colab_type": "code",
        "colab": {
          "base_uri": "https://localhost:8080/",
          "height": 34
        },
        "outputId": "a4c30b68-9f73-4851-c585-84e0b22b2b6d"
      },
      "source": [
        "# TPU device check\n",
        "import os \n",
        "if 'COLAB_TPU_ADDR' not in os.environ: \n",
        "  print('Not connected to TPU') \n",
        "else: \n",
        "  print(\"Connected to TPU\") "
      ],
      "execution_count": 7,
      "outputs": [
        {
          "output_type": "stream",
          "text": [
            "Not connected to TPU\n"
          ],
          "name": "stdout"
        }
      ]
    }
  ]
}